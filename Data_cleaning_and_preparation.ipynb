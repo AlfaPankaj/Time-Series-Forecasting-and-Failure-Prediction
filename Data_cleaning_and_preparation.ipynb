{
 "cells": [
  {
   "cell_type": "code",
   "execution_count": 1,
   "id": "caa4220b-5013-40c9-a03d-cf4007842e4d",
   "metadata": {},
   "outputs": [],
   "source": [
    "import pandas as pd"
   ]
  },
  {
   "cell_type": "code",
   "execution_count": 2,
   "id": "0bb6b9be-f396-45d5-aabc-861466fc56fe",
   "metadata": {},
   "outputs": [
    {
     "data": {
      "text/html": [
       "<div>\n",
       "<style scoped>\n",
       "    .dataframe tbody tr th:only-of-type {\n",
       "        vertical-align: middle;\n",
       "    }\n",
       "\n",
       "    .dataframe tbody tr th {\n",
       "        vertical-align: top;\n",
       "    }\n",
       "\n",
       "    .dataframe thead th {\n",
       "        text-align: right;\n",
       "    }\n",
       "</style>\n",
       "<table border=\"1\" class=\"dataframe\">\n",
       "  <thead>\n",
       "    <tr style=\"text-align: right;\">\n",
       "      <th></th>\n",
       "      <th>Date</th>\n",
       "      <th>Lower limit</th>\n",
       "      <th>Measured_value</th>\n",
       "      <th>Upper limit</th>\n",
       "      <th>Label</th>\n",
       "    </tr>\n",
       "  </thead>\n",
       "  <tbody>\n",
       "    <tr>\n",
       "      <th>0</th>\n",
       "      <td>2023-01-12 06:14:27</td>\n",
       "      <td>116</td>\n",
       "      <td>120.47</td>\n",
       "      <td>125</td>\n",
       "      <td>PASS</td>\n",
       "    </tr>\n",
       "    <tr>\n",
       "      <th>1</th>\n",
       "      <td>2023-01-12 06:32:20</td>\n",
       "      <td>116</td>\n",
       "      <td>121.35</td>\n",
       "      <td>125</td>\n",
       "      <td>PASS</td>\n",
       "    </tr>\n",
       "    <tr>\n",
       "      <th>2</th>\n",
       "      <td>2023-06-26 06:21:25</td>\n",
       "      <td>116</td>\n",
       "      <td>119.58</td>\n",
       "      <td>125</td>\n",
       "      <td>PASS</td>\n",
       "    </tr>\n",
       "    <tr>\n",
       "      <th>3</th>\n",
       "      <td>2023-06-26 06:28:21</td>\n",
       "      <td>116</td>\n",
       "      <td>119.59</td>\n",
       "      <td>125</td>\n",
       "      <td>PASS</td>\n",
       "    </tr>\n",
       "    <tr>\n",
       "      <th>4</th>\n",
       "      <td>2024-05-16 06:32:07</td>\n",
       "      <td>116</td>\n",
       "      <td>120.27</td>\n",
       "      <td>125</td>\n",
       "      <td>PASS</td>\n",
       "    </tr>\n",
       "  </tbody>\n",
       "</table>\n",
       "</div>"
      ],
      "text/plain": [
       "                 Date  Lower limit Measured_value  Upper limit Label\n",
       "0 2023-01-12 06:14:27          116         120.47          125  PASS\n",
       "1 2023-01-12 06:32:20          116         121.35          125  PASS\n",
       "2 2023-06-26 06:21:25          116         119.58          125  PASS\n",
       "3 2023-06-26 06:28:21          116         119.59          125  PASS\n",
       "4 2024-05-16 06:32:07          116         120.27          125  PASS"
      ]
     },
     "execution_count": 2,
     "metadata": {},
     "output_type": "execute_result"
    }
   ],
   "source": [
    "#Load the data\n",
    "df = pd.read_excel('Sample_data.xlsx')\n",
    "df.head()"
   ]
  },
  {
   "cell_type": "code",
   "execution_count": 3,
   "id": "61bb925f-ecca-46e8-bb91-b4e75759f1e2",
   "metadata": {},
   "outputs": [],
   "source": [
    "#Drop the rows with missing values\n",
    "df.dropna(subset = ['Date','Measured_value','Lower limit','Upper limit','Label'], inplace = True)\n",
    "\n",
    "# Convert Meaured_value to a numeric\n",
    "df['Measured_value'] = pd.to_numeric(df['Measured_value'], errors = 'coerce')\n",
    "df.dropna(subset = ['Measured_value'], inplace = True)\n"
   ]
  },
  {
   "cell_type": "code",
   "execution_count": 4,
   "id": "166a2a7c-a14f-4ad1-ab32-66f4cd393427",
   "metadata": {},
   "outputs": [],
   "source": [
    "#convert the date column to datetime\n",
    "df['Time'] = pd.to_datetime(df['Date'], format = '%H:%M:%S')\n",
    "df.set_index('Time', inplace = True)\n",
    "df.sort_index(inplace = True)\n",
    "\n",
    "#handle duplicate timestamps\n",
    "df_unique_time = df.groupby('Time')['Measured_value'].mean()\n",
    "\n",
    "#Resample the data to every minute\n",
    "df_resampled = df_unique_time.resample('min').ffill()"
   ]
  },
  {
   "cell_type": "code",
   "execution_count": 5,
   "id": "221e8676-27fa-4bfd-ae8f-7494a1ed64c9",
   "metadata": {},
   "outputs": [
    {
     "name": "stdout",
     "output_type": "stream",
     "text": [
      "csv file saved successfully\n",
      "\n",
      "First 5 rows of the new data set\n",
      "Time\n",
      "2023-01-10 21:20:00       NaN\n",
      "2023-01-10 21:21:00    123.06\n",
      "2023-01-10 21:22:00    123.06\n",
      "2023-01-10 21:23:00    123.06\n",
      "2023-01-10 21:24:00    123.06\n",
      "Freq: min, Name: Measured_value, dtype: float64\n"
     ]
    }
   ],
   "source": [
    "#save the new date set name - 'cleaned_data.csv'\n",
    "df_resampled.to_csv('cleaned_data.csv')\n",
    "\n",
    "print(\"csv file saved successfully\")\n",
    "\n",
    "print(\"\\nFirst 5 rows of the new data set\")\n",
    "print(df_resampled.head())"
   ]
  },
  {
   "cell_type": "code",
   "execution_count": null,
   "id": "8fb80ff1-705e-499d-93a5-867895d20c9c",
   "metadata": {},
   "outputs": [],
   "source": []
  }
 ],
 "metadata": {
  "kernelspec": {
   "display_name": "Python 3.10",
   "language": "python",
   "name": "python310"
  },
  "language_info": {
   "codemirror_mode": {
    "name": "ipython",
    "version": 3
   },
   "file_extension": ".py",
   "mimetype": "text/x-python",
   "name": "python",
   "nbconvert_exporter": "python",
   "pygments_lexer": "ipython3",
   "version": "3.10.10"
  }
 },
 "nbformat": 4,
 "nbformat_minor": 5
}
